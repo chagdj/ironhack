{
 "cells": [
  {
   "cell_type": "code",
   "execution_count": 1,
   "metadata": {
    "tags": []
   },
   "outputs": [],
   "source": [
    "# Lab | Data Structures "
   ]
  },
  {
   "cell_type": "markdown",
   "metadata": {},
   "source": [
    "## Exercise: Managing Customer Orders\n",
    "\n",
    "As part of a business venture, you are starting an online store that sells various products. To ensure smooth operations, you need to develop a program that manages customer orders and inventory.\n",
    "\n",
    "Follow the steps below to complete the exercise:\n",
    "\n",
    "1. Define a list called `products` that contains the following items: \"t-shirt\", \"mug\", \"hat\", \"book\", \"keychain\".\n",
    "\n",
    "2. Create an empty dictionary called `inventory`.\n",
    "\n",
    "3. Ask the user to input the quantity of each product available in the inventory. Use the product names from the `products` list as keys in the `inventory` dictionary and assign the respective quantities as values.\n",
    "\n",
    "4. Create an empty set called `customer_orders`.\n",
    "\n",
    "5. Ask the user to input the name of three products that a customer wants to order (from those in the products list, meaning three products out of \"t-shirt\", \"mug\", \"hat\", \"book\" or \"keychain\". Add each product name to the `customer_orders` set.\n",
    "\n",
    "6. Print the products in the `customer_orders` set.\n",
    "\n",
    "7. Calculate the following order statistics:\n",
    "   - Total Products Ordered: The total number of products in the `customer_orders` set.\n",
    "   - Percentage of Products Ordered: The percentage of products ordered compared to the total available products.\n",
    "   \n",
    "   Store these statistics in a tuple called `order_status`.\n",
    "\n",
    "8. Print the order statistics using the following format:\n",
    "   ```\n",
    "   Order Statistics:\n",
    "   Total Products Ordered: <total_products_ordered>\n",
    "   Percentage of Products Ordered: <percentage_ordered>% \n",
    "   ```\n",
    "\n",
    "9. Update the inventory by subtracting 1 from the quantity of each product. Modify the `inventory` dictionary accordingly.\n",
    "\n",
    "10. Print the updated inventory, displaying the quantity of each product on separate lines.\n",
    "\n",
    "Solve the exercise by implementing the steps using the Python concepts of lists, dictionaries, sets, and basic input/output operations. "
   ]
  },
  {
   "cell_type": "markdown",
   "metadata": {},
   "source": [
    "#### 1.Define a list called `products` that contains the following items: \"t-shirt\", \"mug\", \"hat\", \"book\", \"keychain\"."
   ]
  },
  {
   "cell_type": "code",
   "execution_count": 2,
   "metadata": {},
   "outputs": [],
   "source": [
    "\n",
    "products = (\"t-shirt\", \"mug\", \"hat\", \"book\", \"keychain\")\n"
   ]
  },
  {
   "cell_type": "markdown",
   "metadata": {},
   "source": [
    "#### 2.Create an empty dictionary called `inventory`."
   ]
  },
  {
   "cell_type": "code",
   "execution_count": 3,
   "metadata": {},
   "outputs": [],
   "source": [
    "inventory = {}"
   ]
  },
  {
   "cell_type": "markdown",
   "metadata": {},
   "source": [
    "#### 3.Ask the user to input the quantity of each product available in the inventory. Use the product names from the `products` list as keys in the `inventory` dictionary and assign the respective quantities as values.\n"
   ]
  },
  {
   "cell_type": "code",
   "execution_count": 4,
   "metadata": {},
   "outputs": [
    {
     "name": "stdin",
     "output_type": "stream",
     "text": [
      "Enter the number of t_shirt(s): 89\n",
      "Enter the number of mug(s): 199999\n",
      "Enter the number of hat(s): -8\n",
      "Enter the number of book(s): 0\n",
      "Enter the number of keychain(s): 90\n"
     ]
    },
    {
     "name": "stdout",
     "output_type": "stream",
     "text": [
      "\n",
      "The quantity of t-shirt(s) available is:89\n",
      "\n",
      "The quantity of mug(s) available is:199999\n",
      "\n",
      "[The quantity of hat(s) is not available]\n",
      "\n",
      "|The quantity of book(s) is not available]\n",
      "\n",
      "The quantity of keychain(s) available is:90\n"
     ]
    }
   ],
   "source": [
    "# Prompt the user to enter the number of t-shirts they want to order\n",
    "# Convert the user input from a string to an integer using int()\n",
    "\n",
    "\n",
    "tshirt_number = int(input(\"Enter the number of t_shirt(s):\"))\n",
    "mug_number = int(input(\"Enter the number of mug(s):\"))\n",
    "hat_number = int(input(\"Enter the number of hat(s):\"))\n",
    "book_number = int(input(\"Enter the number of book(s):\"))\n",
    "keychain_number = int(input(\"Enter the number of keychain(s):\"))\n",
    "\n",
    "\n",
    "if tshirt_number > 0:\n",
    "        print(f\"\\nThe quantity of t-shirt(s) available is:{tshirt_number}\") \n",
    "else:\n",
    "        print(f\"\\n[The quantity of tshirt(s) is not available]\") \n",
    "\n",
    "if  mug_number > 0:\n",
    "        print(f\"\\nThe quantity of mug(s) available is:{mug_number}\") \n",
    "else:\n",
    "        print(f\"\\n[The quantity of mug(s) is not available]\")\n",
    "\n",
    "if hat_number > 0:\n",
    "        print(f\"\\nThe quantity of hat(s) available is:{hat_number}\") \n",
    "else:\n",
    "        print(f\"\\n[The quantity of hat(s) is not available]\") \n",
    "\n",
    "if book_number > 0:\n",
    "        print(f\"\\nThe quantity of book(s) available is:{book_number}\") \n",
    "else:\n",
    "        print(f\"\\n|The quantity of book(s) is not available]\") \n",
    "\n",
    "\n",
    "if keychain_number > 0:\n",
    "        print(f\"\\nThe quantity of keychain(s) available is:{keychain_number}\") \n",
    "else:\n",
    "        print(f\"\\n[The quantity of keychain(s) is not available]\") \n",
    "\n"
   ]
  },
  {
   "cell_type": "code",
   "execution_count": 5,
   "metadata": {},
   "outputs": [
    {
     "name": "stdout",
     "output_type": "stream",
     "text": [
      "{'tshirt': 89, 'hat': -8, 'book': 0, 'keychain': 90}\n"
     ]
    }
   ],
   "source": [
    "# Create a dictionary to store the inventory\n",
    "\n",
    "inventory = {\n",
    "'tshirt': tshirt_number, # Store the number of t-shirts in the inventory\n",
    "'hat': hat_number,\n",
    "'book': book_number,\n",
    "'keychain': keychain_number,\n",
    "}\n",
    "print(inventory)\n",
    "\n"
   ]
  },
  {
   "cell_type": "markdown",
   "metadata": {},
   "source": [
    "#### 4.Create an empty set called `customer_orders`.\n"
   ]
  },
  {
   "cell_type": "code",
   "execution_count": 6,
   "metadata": {},
   "outputs": [
    {
     "data": {
      "text/plain": [
       "set"
      ]
     },
     "execution_count": 6,
     "metadata": {},
     "output_type": "execute_result"
    }
   ],
   "source": [
    "customer_orders = set()\n",
    "type(customer_orders) # Check whether the type of customer_orders is a set or not"
   ]
  },
  {
   "cell_type": "markdown",
   "metadata": {},
   "source": [
    "#### 5.Ask the user to input the name of three products that a customer wants to order (from those in the products list, meaning three products out of \"t-shirt\", \"mug\", \"hat\", \"book\" or \"keychain\". Add each product name to the `customer_orders` set. +++\n"
   ]
  },
  {
   "cell_type": "code",
   "execution_count": 7,
   "metadata": {},
   "outputs": [
    {
     "name": "stdout",
     "output_type": "stream",
     "text": [
      "Available products: t-shirt, mug, hat, book, keychain\n"
     ]
    },
    {
     "name": "stdin",
     "output_type": "stream",
     "text": [
      "Enter the name(s) of a product you want to order among: t-shirt, mug, hat, book, keychain:  mug\n"
     ]
    },
    {
     "name": "stdout",
     "output_type": "stream",
     "text": [
      "'mug' has been added to your order.\n"
     ]
    },
    {
     "name": "stdin",
     "output_type": "stream",
     "text": [
      "Enter the name(s) of a product you want to order among: t-shirt, mug, hat, book, keychain:  hat\n"
     ]
    },
    {
     "name": "stdout",
     "output_type": "stream",
     "text": [
      "'hat' has been added to your order.\n"
     ]
    },
    {
     "name": "stdin",
     "output_type": "stream",
     "text": [
      "Enter the name(s) of a product you want to order among: t-shirt, mug, hat, book, keychain:  t-shirts\n"
     ]
    },
    {
     "name": "stdout",
     "output_type": "stream",
     "text": [
      "'t-shirts' is not a valid product. Please choose from the list.\n"
     ]
    },
    {
     "name": "stdin",
     "output_type": "stream",
     "text": [
      "Enter the name(s) of a product you want to order among: t-shirt, mug, hat, book, keychain:  t-shirt\n"
     ]
    },
    {
     "name": "stdout",
     "output_type": "stream",
     "text": [
      "'t-shirt' has been added to your order.\n"
     ]
    }
   ],
   "source": [
    "# Define available products\n",
    "available_products = {\"t-shirt\", \"mug\", \"hat\", \"book\", \"keychain\"}\n",
    "\n",
    "# Initialize an empty set to store customer orders\n",
    "customer_orders = set()\n",
    "\n",
    "print(\"Available products: t-shirt, mug, hat, book, keychain\")\n",
    "\n",
    "# Loop to get 3 valid product names from the user\n",
    "while len(customer_orders) < 3:\n",
    "    # Get user input\n",
    "    user_input = input(\"Enter the name(s) of a product you want to order among: t-shirt, mug, hat, book, keychain: \").lower().strip()\n",
    "    \n",
    "    # Split the input into individual product names\n",
    "    products = user_input.split()\n",
    "    \n",
    "    if not products:\n",
    "        print(\"No product entered. Please enter a product.\")\n",
    "        continue\n",
    "    \n",
    "    for product in products:\n",
    "        # Check if the product is in available products\n",
    "        if product in available_products:\n",
    "            if product in customer_orders:\n",
    "                print(f\"'{product}' has already been added to your order.\")\n",
    "            else:\n",
    "                customer_orders.add(product)\n",
    "                print(f\"'{product}' has been added to your order.\")\n",
    "        else:\n",
    "            print(f\"'{product}' is not a valid product. Please choose from the list.\")\n",
    "        \n",
    "        # Break if 3 unique products have been added\n",
    "        if len(customer_orders) >= 3:\n",
    "            break\n",
    "\n",
    "\n"
   ]
  },
  {
   "cell_type": "code",
   "execution_count": null,
   "metadata": {},
   "outputs": [],
   "source": []
  },
  {
   "cell_type": "markdown",
   "metadata": {},
   "source": [
    "#### 6.Print the products in the `customer_orders` set.\n"
   ]
  },
  {
   "cell_type": "code",
   "execution_count": 15,
   "metadata": {},
   "outputs": [
    {
     "name": "stdout",
     "output_type": "stream",
     "text": [
      "Your final order includes: mug, t-shirt, hat\n"
     ]
    }
   ],
   "source": [
    "# Display the final list of orders\n",
    "print(f\"Your final order includes: {', '.join(customer_orders)}\")\n"
   ]
  },
  {
   "cell_type": "markdown",
   "metadata": {},
   "source": [
    "#### 7.Calculate the following order statistics:\n",
    "   - Total Products Ordered: The total number of products in the `customer_orders` set.\n",
    "   - Percentage of Products Ordered: The percentage of products ordered compared to the total available products.\n",
    "   Store these statistics in a tuple called `order_status`."
   ]
  },
  {
   "cell_type": "code",
   "execution_count": 16,
   "metadata": {},
   "outputs": [
    {
     "name": "stdout",
     "output_type": "stream",
     "text": [
      "The Total Products Ordered is: 3\n"
     ]
    }
   ],
   "source": [
    "#  - Total Products Ordered: The total number of products in the `customer_orders` set.\n",
    "\n",
    "# Convert the set of customer orders to a tuple to allow me to count the number of items in the set\n",
    "total_products_ordered = len(tuple(customer_orders))\n",
    "\n",
    "print(f\"The Total Products Ordered is: {total_products_ordered }\")"
   ]
  },
  {
   "cell_type": "code",
   "execution_count": 17,
   "metadata": {},
   "outputs": [
    {
     "name": "stdout",
     "output_type": "stream",
     "text": [
      "The number of available product is: 169\n"
     ]
    }
   ],
   "source": [
    "available_products = sum(inventory.values()) # Calculate the total number of available products by summing the values in the inventory dictionary\n",
    " # Check whether the type of customer_orders is an Integer or not to allow me to calculate the percentage of  available products\n",
    "print(f\"The number of available product is: {available_products}\")"
   ]
  },
  {
   "cell_type": "code",
   "execution_count": 18,
   "metadata": {},
   "outputs": [
    {
     "name": "stdout",
     "output_type": "stream",
     "text": [
      "The percentage of products ordered compared to the total available products is: 2%\n"
     ]
    }
   ],
   "source": [
    "if available_products > 0:  # Avoid division by zero\n",
    "    percentage_ordered = (total_products_ordered / available_products) * 100\n",
    "else:\n",
    "    percentage_ordered = 0\n",
    "\n",
    "# Store the percentage in a tuple, rounded to the nearest whole number\n",
    "order_status = (round(percentage_ordered),)\n",
    "\n",
    "\n",
    "print(f\"The percentage of products ordered compared to the total available products is: {order_status[0]}%\")\n"
   ]
  },
  {
   "cell_type": "markdown",
   "metadata": {},
   "source": [
    "####  8.Print the order statistics using the following format:\n",
    "   ```\n",
    "   Order Statistics:\n",
    "   Total Products Ordered: <total_products_ordered>\n",
    "   Percentage of Products Ordered: <percentage_ordered>% "
   ]
  },
  {
   "cell_type": "code",
   "execution_count": 20,
   "metadata": {},
   "outputs": [
    {
     "name": "stdout",
     "output_type": "stream",
     "text": [
      "Order Statistics:\n",
      "Total Products Ordered: 3\n",
      "Percentage of Products Ordered: 2%\n"
     ]
    }
   ],
   "source": [
    "print(\"Order Statistics:\")\n",
    "print(f\"Total Products Ordered: {total_products_ordered}\")\n",
    "print(f\"Percentage of Products Ordered: {order_status[0]}%\")\n"
   ]
  },
  {
   "cell_type": "markdown",
   "metadata": {},
   "source": [
    "#### 9.Update the inventory by subtracting 1 from the quantity of each product. Modify the `inventory` dictionary accordingly. +++\n"
   ]
  },
  {
   "cell_type": "code",
   "execution_count": null,
   "metadata": {},
   "outputs": [],
   "source": []
  },
  {
   "cell_type": "code",
   "execution_count": 37,
   "metadata": {},
   "outputs": [
    {
     "name": "stdout",
     "output_type": "stream",
     "text": [
      "No more hats left in inventory.\n",
      "No more books left in inventory.\n"
     ]
    }
   ],
   "source": [
    "# Update the inventory by subtracting 1 from the quantity of each product\n",
    "for product in list(inventory.keys()):  # Convert the dictionary keys to a list to safely modify the dictionary during iteration\n",
    "    if inventory[product] > 0:  # Check if there is a positive quantity of the product\n",
    "        inventory[product] -= 1  # Decrease the quantity of the product by 1\n",
    "        if inventory[product] == 0:\n",
    "            print(f\"Now out of stock: {product}.\")  # Notify when the product is out of stock after decrement\n",
    "    else:\n",
    "        print(f\"No more {product}s left in inventory.\")  # Notify if already out of stock\n",
    "\n",
    "# Ensure no negative quantities\n",
    "for product in inventory:\n",
    "    if inventory[product] < 0:\n",
    "        inventory[product] = 0  # Correct any negative quantities\n",
    "\n"
   ]
  },
  {
   "cell_type": "code",
   "execution_count": null,
   "metadata": {},
   "outputs": [],
   "source": []
  },
  {
   "cell_type": "markdown",
   "metadata": {},
   "source": [
    "#### 10.Print the updated inventory, displaying the quantity of each product on separate lines. +++\n"
   ]
  },
  {
   "cell_type": "code",
   "execution_count": 39,
   "metadata": {},
   "outputs": [
    {
     "name": "stdout",
     "output_type": "stream",
     "text": [
      "Updated Inventory:\n",
      "tshirt: 81\n",
      "hat: 0\n",
      "book: 0\n",
      "keychain: 82\n"
     ]
    }
   ],
   "source": [
    "# Print the updated inventory\n",
    "print(\"Updated Inventory:\")\n",
    "for product, quantity in inventory.items():\n",
    "    print(f\"{product}: {quantity}\")"
   ]
  },
  {
   "cell_type": "code",
   "execution_count": null,
   "metadata": {},
   "outputs": [],
   "source": []
  }
 ],
 "metadata": {
  "kernelspec": {
   "display_name": "Python 3 (ipykernel)",
   "language": "python",
   "name": "python3"
  },
  "language_info": {
   "codemirror_mode": {
    "name": "ipython",
    "version": 3
   },
   "file_extension": ".py",
   "mimetype": "text/x-python",
   "name": "python",
   "nbconvert_exporter": "python",
   "pygments_lexer": "ipython3",
   "version": "3.12.4"
  }
 },
 "nbformat": 4,
 "nbformat_minor": 4
}
