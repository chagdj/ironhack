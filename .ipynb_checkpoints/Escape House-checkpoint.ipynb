{
 "cells": [
  {
   "cell_type": "code",
   "execution_count": 1,
   "id": "2be0e602-4df3-4fe7-8fad-b3336b1fb94c",
   "metadata": {},
   "outputs": [
    {
     "name": "stdout",
     "output_type": "stream",
     "text": [
      "Suddenly, you find yourself waking up on an unfamiliar couch, in an eerie house devoid of windows.\n",
      "\n",
      "Your memory fails to provide any explanation about how you ended up here, or what transpired previously.\n",
      "\n",
      "You can sense an imminent threat lurking somewhere - your gut tells you to escape the house immediately!.\n",
      "\n",
      "There is a dog next to you...!\n",
      "\n",
      "The dog is speaking: 'Hey, my friend! Seriously, did you hibernate or something?'\n",
      "\n"
     ]
    },
    {
     "name": "stdin",
     "output_type": "stream",
     "text": [
      "Would you like to answer the dog? Please say 'yes' or 'no'.\n",
      " yes\n"
     ]
    },
    {
     "name": "stdout",
     "output_type": "stream",
     "text": [
      "\n",
      "'Who are you? Where am I?'\n",
      "\n",
      "'The dog is answering: The monster gave you a good thrashing and you fainted, I was able to scare him but he'll be back soon.\n",
      "\n",
      " We need to get the keys back quickly so we can get out of this house as soon as possible!\n",
      "\n",
      "You are in Piano room.\n"
     ]
    },
    {
     "name": "stdin",
     "output_type": "stream",
     "text": [
      "\n",
      "Do you want to explore the room? (yes/no):  yes\n"
     ]
    },
    {
     "name": "stdout",
     "output_type": "stream",
     "text": [
      "\n",
      "These are your options:\n",
      "1. Look at the piano\n",
      "2. Go to Door A\n",
      "3. Inspect the couch\n"
     ]
    },
    {
     "name": "stdin",
     "output_type": "stream",
     "text": [
      "Choose an option (1/2/3):  3\n"
     ]
    },
    {
     "name": "stdout",
     "output_type": "stream",
     "text": [
      "You look under the couch and find a hint.\n",
      "The hint says: 'This famous classic play is Moonlight Sonata written by Beethoven.'\n"
     ]
    },
    {
     "name": "stdin",
     "output_type": "stream",
     "text": [
      "\n",
      "Do you want to explore the room? (yes/no):  yes\n"
     ]
    },
    {
     "name": "stdout",
     "output_type": "stream",
     "text": [
      "\n",
      "These are your options:\n",
      "1. Look at the piano\n",
      "2. Go to Door A\n",
      "3. Inspect the couch\n"
     ]
    },
    {
     "name": "stdin",
     "output_type": "stream",
     "text": [
      "Choose an option (1/2/3):  1\n"
     ]
    },
    {
     "name": "stdout",
     "output_type": "stream",
     "text": [
      "A beautiful music starts. You have to answer the question.\n",
      "\n",
      "You hear a beautiful melody coming from the piano.\n"
     ]
    },
    {
     "name": "stdin",
     "output_type": "stream",
     "text": [
      "What is the name of the play?  Moonlight Sonata\n"
     ]
    },
    {
     "name": "stdout",
     "output_type": "stream",
     "text": [
      "Correct! You got the key.\n"
     ]
    },
    {
     "name": "stdin",
     "output_type": "stream",
     "text": [
      "\n",
      "Do you want to explore the room? (yes/no):  yes\n"
     ]
    },
    {
     "name": "stdout",
     "output_type": "stream",
     "text": [
      "\n",
      "These are your options:\n",
      "1. Look at the piano\n",
      "2. Go to Door A\n",
      "3. Inspect the couch\n"
     ]
    },
    {
     "name": "stdin",
     "output_type": "stream",
     "text": [
      "Choose an option (1/2/3):  1\n"
     ]
    },
    {
     "name": "stdout",
     "output_type": "stream",
     "text": [
      "You have already won the key. Try another action.\n"
     ]
    },
    {
     "name": "stdin",
     "output_type": "stream",
     "text": [
      "\n",
      "Do you want to explore the room? (yes/no):  yes\n"
     ]
    },
    {
     "name": "stdout",
     "output_type": "stream",
     "text": [
      "\n",
      "These are your options:\n",
      "1. Look at the piano\n",
      "2. Go to Door A\n",
      "3. Inspect the couch\n"
     ]
    },
    {
     "name": "stdin",
     "output_type": "stream",
     "text": [
      "Choose an option (1/2/3):  2\n"
     ]
    },
    {
     "name": "stdout",
     "output_type": "stream",
     "text": [
      "You use the key to open Door A.\n"
     ]
    },
    {
     "name": "stdin",
     "output_type": "stream",
     "text": [
      "Do you want to enter the next room? (yes/no):  yes\n"
     ]
    },
    {
     "name": "stdout",
     "output_type": "stream",
     "text": [
      "You advance to the next room. Be careful!\n",
      "\n",
      "You are in Room 2.\n",
      "\n",
      "Options:\n",
      "1. Solve math problems to get the key.\n",
      "2. Inspect the room.\n",
      "3. Go to the next room (if you have the key).\n"
     ]
    },
    {
     "name": "stdin",
     "output_type": "stream",
     "text": [
      "Choose an option (1/2/3):  2\n"
     ]
    },
    {
     "name": "stdout",
     "output_type": "stream",
     "text": [
      "You look around the room but find nothing unusual.\n",
      "\n",
      "Options:\n",
      "1. Solve math problems to get the key.\n",
      "2. Inspect the room.\n",
      "3. Go to the next room (if you have the key).\n"
     ]
    },
    {
     "name": "stdin",
     "output_type": "stream",
     "text": [
      "Choose an option (1/2/3):  1\n"
     ]
    },
    {
     "name": "stdout",
     "output_type": "stream",
     "text": [
      "\n",
      "You are in Bedroom 1. Solve some math problems to get the key.\n"
     ]
    },
    {
     "name": "stdin",
     "output_type": "stream",
     "text": [
      "What is 65 + 152?  217\n"
     ]
    },
    {
     "name": "stdout",
     "output_type": "stream",
     "text": [
      "Correct!\n"
     ]
    },
    {
     "name": "stdin",
     "output_type": "stream",
     "text": [
      "What is 146 - 207?  -161\n"
     ]
    },
    {
     "name": "stdout",
     "output_type": "stream",
     "text": [
      "Wrong! The correct answer is -61.\n"
     ]
    },
    {
     "name": "stdin",
     "output_type": "stream",
     "text": [
      "What is 298 + 53?  351\n"
     ]
    },
    {
     "name": "stdout",
     "output_type": "stream",
     "text": [
      "Correct!\n",
      "You solved 2 problems correctly. You earned the key!\n",
      "You found the key to Room 3!\n",
      "\n",
      "Options:\n",
      "1. Solve math problems to get the key.\n",
      "2. Inspect the room.\n",
      "3. Go to the next room (if you have the key).\n"
     ]
    },
    {
     "name": "stdin",
     "output_type": "stream",
     "text": [
      "Choose an option (1/2/3):  3\n"
     ]
    },
    {
     "name": "stdout",
     "output_type": "stream",
     "text": [
      "You use the key to unlock Room 3. Moving to Room 3 now...\n",
      "\n",
      "You are in Room 3. You need to find two keys to escape.\n",
      "\n",
      "Options:\n",
      "1. Inspect the bed (play Rock, Paper, Scissors).\n",
      "2. Inspect the dresser (Guess the Number game).\n"
     ]
    },
    {
     "name": "stdin",
     "output_type": "stream",
     "text": [
      "Choose an option (1/2):  1\n"
     ]
    },
    {
     "name": "stdout",
     "output_type": "stream",
     "text": [
      "You approach the bed for a game of Rock, Paper, Scissors.\n",
      "\n",
      "In this game, the rules are following:\n",
      "\n",
      "Rock beats scissors.\n",
      "\n",
      "Scissors beats paper.\n",
      "\n",
      "Paper beats rock.\n"
     ]
    },
    {
     "name": "stdin",
     "output_type": "stream",
     "text": [
      "\n",
      "Your turn - What do you choose? rock, paper, scissors?\n",
      " paper\n"
     ]
    },
    {
     "name": "stdout",
     "output_type": "stream",
     "text": [
      "The game chooses rock\n",
      "Yeah!!! +1 for you!!!\n"
     ]
    },
    {
     "name": "stdin",
     "output_type": "stream",
     "text": [
      "\n",
      "Your turn - What do you choose? rock, paper, scissors?\n",
      " rock\n"
     ]
    },
    {
     "name": "stdout",
     "output_type": "stream",
     "text": [
      "The game chooses paper\n",
      "Hahaha +1 for me!!!\n",
      "Try again!\n"
     ]
    },
    {
     "name": "stdin",
     "output_type": "stream",
     "text": [
      "\n",
      "Your turn - What do you choose? rock, paper, scissors?\n",
      " rock\n"
     ]
    },
    {
     "name": "stdout",
     "output_type": "stream",
     "text": [
      "The game chooses paper\n",
      "Hahaha +1 for me!!!\n",
      "Try again!\n",
      "\n",
      "You have scored 1 and I have scored 2.\n",
      "\n",
      "I won with 2 scores!!\n",
      "\n",
      "Options:\n",
      "1. Inspect the bed (play Rock, Paper, Scissors).\n",
      "2. Inspect the dresser (Guess the Number game).\n"
     ]
    },
    {
     "name": "stdin",
     "output_type": "stream",
     "text": [
      "Choose an option (1/2):  1\n"
     ]
    },
    {
     "name": "stdout",
     "output_type": "stream",
     "text": [
      "You approach the bed for a game of Rock, Paper, Scissors.\n",
      "\n",
      "In this game, the rules are following:\n",
      "\n",
      "Rock beats scissors.\n",
      "\n",
      "Scissors beats paper.\n",
      "\n",
      "Paper beats rock.\n"
     ]
    },
    {
     "name": "stdin",
     "output_type": "stream",
     "text": [
      "\n",
      "Your turn - What do you choose? rock, paper, scissors?\n",
      " rock\n"
     ]
    },
    {
     "name": "stdout",
     "output_type": "stream",
     "text": [
      "The game chooses rock\n",
      "Neither player has scored!!!\n"
     ]
    },
    {
     "name": "stdin",
     "output_type": "stream",
     "text": [
      "\n",
      "Your turn - What do you choose? rock, paper, scissors?\n",
      " rock\n"
     ]
    },
    {
     "name": "stdout",
     "output_type": "stream",
     "text": [
      "The game chooses paper\n",
      "Hahaha +1 for me!!!\n",
      "Try again!\n"
     ]
    },
    {
     "name": "stdin",
     "output_type": "stream",
     "text": [
      "\n",
      "Your turn - What do you choose? rock, paper, scissors?\n",
      " rock\n"
     ]
    },
    {
     "name": "stdout",
     "output_type": "stream",
     "text": [
      "The game chooses paper\n",
      "Hahaha +1 for me!!!\n",
      "Try again!\n",
      "\n",
      "You have scored 0 and I have scored 2.\n",
      "\n",
      "I won with 2 scores!!\n",
      "\n",
      "Options:\n",
      "1. Inspect the bed (play Rock, Paper, Scissors).\n",
      "2. Inspect the dresser (Guess the Number game).\n"
     ]
    },
    {
     "name": "stdin",
     "output_type": "stream",
     "text": [
      "Choose an option (1/2):  1\n"
     ]
    },
    {
     "name": "stdout",
     "output_type": "stream",
     "text": [
      "You approach the bed for a game of Rock, Paper, Scissors.\n",
      "\n",
      "In this game, the rules are following:\n",
      "\n",
      "Rock beats scissors.\n",
      "\n",
      "Scissors beats paper.\n",
      "\n",
      "Paper beats rock.\n"
     ]
    },
    {
     "name": "stdin",
     "output_type": "stream",
     "text": [
      "\n",
      "Your turn - What do you choose? rock, paper, scissors?\n",
      " rock\n"
     ]
    },
    {
     "name": "stdout",
     "output_type": "stream",
     "text": [
      "The game chooses rock\n",
      "Neither player has scored!!!\n"
     ]
    },
    {
     "name": "stdin",
     "output_type": "stream",
     "text": [
      "\n",
      "Your turn - What do you choose? rock, paper, scissors?\n",
      " rock\n"
     ]
    },
    {
     "name": "stdout",
     "output_type": "stream",
     "text": [
      "The game chooses scissors\n",
      "Yeah!!! +1 for you!!!\n"
     ]
    },
    {
     "name": "stdin",
     "output_type": "stream",
     "text": [
      "\n",
      "Your turn - What do you choose? rock, paper, scissors?\n",
      " rock\n"
     ]
    },
    {
     "name": "stdout",
     "output_type": "stream",
     "text": [
      "The game chooses paper\n",
      "Hahaha +1 for me!!!\n",
      "Try again!\n",
      "\n",
      "You have scored 1 and I have scored 1.\n",
      "\n",
      "Woow Equal Scores!!\n",
      "\n",
      "Options:\n",
      "1. Inspect the bed (play Rock, Paper, Scissors).\n",
      "2. Inspect the dresser (Guess the Number game).\n"
     ]
    },
    {
     "name": "stdin",
     "output_type": "stream",
     "text": [
      "Choose an option (1/2):  1\n"
     ]
    },
    {
     "name": "stdout",
     "output_type": "stream",
     "text": [
      "You approach the bed for a game of Rock, Paper, Scissors.\n",
      "\n",
      "In this game, the rules are following:\n",
      "\n",
      "Rock beats scissors.\n",
      "\n",
      "Scissors beats paper.\n",
      "\n",
      "Paper beats rock.\n"
     ]
    },
    {
     "name": "stdin",
     "output_type": "stream",
     "text": [
      "\n",
      "Your turn - What do you choose? rock, paper, scissors?\n",
      " rock\n"
     ]
    },
    {
     "name": "stdout",
     "output_type": "stream",
     "text": [
      "The game chooses rock\n",
      "Neither player has scored!!!\n"
     ]
    },
    {
     "name": "stdin",
     "output_type": "stream",
     "text": [
      "\n",
      "Your turn - What do you choose? rock, paper, scissors?\n",
      " rock\n"
     ]
    },
    {
     "name": "stdout",
     "output_type": "stream",
     "text": [
      "The game chooses scissors\n",
      "Yeah!!! +1 for you!!!\n"
     ]
    },
    {
     "name": "stdin",
     "output_type": "stream",
     "text": [
      "\n",
      "Your turn - What do you choose? rock, paper, scissors?\n",
      " rock\n"
     ]
    },
    {
     "name": "stdout",
     "output_type": "stream",
     "text": [
      "The game chooses scissors\n",
      "Yeah!!! +1 for you!!!\n",
      "\n",
      "You have scored 2 and I have scored 0.\n",
      "\n",
      "Well done!! You won with 2 scores!!\n",
      "You won the key from the bed!\n",
      "\n",
      "Options:\n",
      "1. Inspect the bed (play Rock, Paper, Scissors).\n",
      "2. Inspect the dresser (Guess the Number game).\n"
     ]
    },
    {
     "name": "stdin",
     "output_type": "stream",
     "text": [
      "Choose an option (1/2):  2\n"
     ]
    },
    {
     "name": "stdout",
     "output_type": "stream",
     "text": [
      "\n",
      "You are looking at the dresser.\n"
     ]
    },
    {
     "name": "stdin",
     "output_type": "stream",
     "text": [
      "Guess a number between 1 and 6 (attempts left: 3):  5\n"
     ]
    },
    {
     "name": "stdout",
     "output_type": "stream",
     "text": [
      "Wrong guess. Try again.\n"
     ]
    },
    {
     "name": "stdin",
     "output_type": "stream",
     "text": [
      "Guess a number between 1 and 6 (attempts left: 2):  3\n"
     ]
    },
    {
     "name": "stdout",
     "output_type": "stream",
     "text": [
      "Wrong guess. Try again.\n"
     ]
    },
    {
     "name": "stdin",
     "output_type": "stream",
     "text": [
      "Guess a number between 1 and 6 (attempts left: 1):  2\n"
     ]
    },
    {
     "name": "stdout",
     "output_type": "stream",
     "text": [
      "Wrong guess. Try again.\n",
      "You ran out of attempts.\n",
      "\n",
      "Options:\n",
      "1. Inspect the bed (play Rock, Paper, Scissors).\n",
      "2. Inspect the dresser (Guess the Number game).\n"
     ]
    },
    {
     "name": "stdin",
     "output_type": "stream",
     "text": [
      "Choose an option (1/2):  2\n"
     ]
    },
    {
     "name": "stdout",
     "output_type": "stream",
     "text": [
      "\n",
      "You are looking at the dresser.\n"
     ]
    },
    {
     "name": "stdin",
     "output_type": "stream",
     "text": [
      "Guess a number between 1 and 6 (attempts left: 3):  5\n"
     ]
    },
    {
     "name": "stdout",
     "output_type": "stream",
     "text": [
      "Wrong guess. Try again.\n"
     ]
    },
    {
     "name": "stdin",
     "output_type": "stream",
     "text": [
      "Guess a number between 1 and 6 (attempts left: 2):  2\n"
     ]
    },
    {
     "name": "stdout",
     "output_type": "stream",
     "text": [
      "Congratulations! You guessed the correct number and earned the key.\n",
      "Congratulations! You have both keys and escape the house with your new friend you again! Waouf Waouf!!\n"
     ]
    }
   ],
   "source": [
    "import random\n",
    "import time\n",
    "\n",
    "# Initial introduction to the game\n",
    "def intro():\n",
    "    time.sleep(1)\n",
    "    print(\"Suddenly, you find yourself waking up on an unfamiliar couch, in an eerie house devoid of windows.\\n\")\n",
    "    time.sleep(1)\n",
    "    print(\"Your memory fails to provide any explanation about how you ended up here, or what transpired previously.\\n\")\n",
    "    time.sleep(1)\n",
    "    print(\"You can sense an imminent threat lurking somewhere - your gut tells you to escape the house immediately!.\\n\")\n",
    "    time.sleep(1)\n",
    "    print(\"There is a dog next to you...!\\n\")\n",
    "    time.sleep(1)\n",
    "    print(\"The dog is speaking: 'Hey, my friend! Seriously, did you hibernate or something?'\\n\")\n",
    "\n",
    "# Player input: interaction with the dog\n",
    "def intro_1():\n",
    "    time.sleep(2)\n",
    "    first_question = valid_input(\"Would you like to answer the dog? Please say 'yes' or 'no'.\\n\", \"yes\", \"no\")\n",
    "    if first_question == \"yes\":\n",
    "        print(\"\\n'Who are you? Where am I?'\")\n",
    "        print(\"\\n'The dog is answering: The monster gave you a good thrashing and you fainted, I was able to scare him but he'll be back soon.\")\n",
    "        print(\"\\n We need to get the keys back quickly so we can get out of this house as soon as possible!\")\n",
    "    elif first_question == \"no\":\n",
    "        print(\"\\n'Ok... Exit game!'\")\n",
    "        exit(0)\n",
    "\n",
    "# Validates the player's input against two options\n",
    "def valid_input(prompt, option1, option2):\n",
    "    while True:\n",
    "        response = input(prompt).lower()\n",
    "        if response in [option1, option2]:\n",
    "            return response\n",
    "        else:\n",
    "            print(\"Sorry, I don't understand that.\")\n",
    "\n",
    "# Mini-game 1: Guess the name of the piano melody\n",
    "def mini_game_piano():\n",
    "    print(\"\\nYou hear a beautiful melody coming from the piano.\")\n",
    "    answer = input(\"What is the name of the play? \").lower()\n",
    "    if answer == \"moonlight sonata\":\n",
    "        print(\"Correct! You got the key.\")\n",
    "        return True\n",
    "    else:\n",
    "        print(\"Wrong answer. Try again.\")\n",
    "        return False\n",
    "\n",
    "# Provides a hint for the piano game\n",
    "def give_hint():\n",
    "    print(\"You look under the couch and find a hint.\")\n",
    "    print(\"The hint says: 'This famous classic play is Moonlight Sonata written by Beethoven.'\")\n",
    "\n",
    "# Mini-game 2: Math challenges in Room 2\n",
    "def mini_game_math():\n",
    "    print(\"\\nYou are in Bedroom 1. Solve some math problems to get the key.\")\n",
    "    score = 0\n",
    "    count = 0  # Initialize count to track attempts\n",
    "\n",
    "    # Loop runs three times for three math challenges\n",
    "    while count < 3:  \n",
    "        try:\n",
    "            num1 = random.randint(1, 300)\n",
    "            num2 = random.randint(1, 300)\n",
    "            operation = random.choice([\"+\", \"-\"])\n",
    "\n",
    "            # Calculate the correct answer based on the operation\n",
    "            if operation == \"+\":\n",
    "                result = num1 + num2\n",
    "            else:\n",
    "                result = num1 - num2\n",
    "\n",
    "            answer = int(input(f\"What is {num1} {operation} {num2}? \"))\n",
    "\n",
    "            if answer == result:\n",
    "                print(\"Correct!\")\n",
    "                score += 1  \n",
    "            else:\n",
    "                print(f\"Wrong! The correct answer is {result}.\")\n",
    "\n",
    "        except ValueError:\n",
    "            print(\"Please enter a valid integer.\")\n",
    "\n",
    "        count += 1  \n",
    "\n",
    "    if score >= 2:\n",
    "        print(f\"You solved {score} problems correctly. You earned the key!\")\n",
    "        return True\n",
    "    else:\n",
    "        print(\"You didn't solve enough problems. Try again.\")\n",
    "        return False\n",
    "\n",
    "# Mini-game 3.1: Rock, Paper, Scissors in Room 3\n",
    "def whos_the_winner(players_win, games_win):\n",
    "    if players_win > games_win:\n",
    "        print(f\"\\nWell done!! You won with {players_win} scores!!\")\n",
    "        return True\n",
    "    elif players_win < games_win:\n",
    "        print(f\"\\nI won with {games_win} scores!!\")\n",
    "        return False\n",
    "    else:\n",
    "        print(f\"\\nWoow Equal Scores!!\")\n",
    "        return None\n",
    "\n",
    "def bed_game():\n",
    "    print(\"\\nIn this game, the rules are following:\")\n",
    "    time.sleep(2)\n",
    "    print(\"\\nRock beats scissors.\")\n",
    "    time.sleep(2)\n",
    "    print(\"\\nScissors beats paper.\")\n",
    "    time.sleep(2)\n",
    "    print(\"\\nPaper beats rock.\")\n",
    "\n",
    "    time.sleep(2)\n",
    "    count = 3\n",
    "    players_win = 0\n",
    "    games_win = 0\n",
    "\n",
    "    while count > 0:\n",
    "        time.sleep(2)\n",
    "        try:\n",
    "            rps_question = input(\"\\nYour turn - What do you choose? rock, paper, scissors?\\n\").lower()\n",
    "            if rps_question != \"rock\" and rps_question != \"paper\" and rps_question != \"scissors\":\n",
    "                raise ValueError(\"Please enter either rock or paper or scissors.\")\n",
    "            rps_random_choices = random.choice([\"rock\", \"paper\", \"scissors\"])\n",
    "            print(f\"The game chooses {rps_random_choices}\")\n",
    "           \n",
    "            if rps_random_choices == \"rock\" and rps_question == \"paper\" or \\\n",
    "                rps_random_choices == \"scissors\" and rps_question == \"rock\" or \\\n",
    "                rps_random_choices == \"paper\" and rps_question == \"scissors\":\n",
    "                print(\"Yeah!!! +1 for you!!!\")\n",
    "                players_win += 1\n",
    "            elif rps_random_choices == rps_question:\n",
    "                print(\"Neither player has scored!!!\")     \n",
    "            else:\n",
    "                print(\"Hahaha +1 for me!!!\")\n",
    "                games_win += 1\n",
    "                print(\"Try again!\")\n",
    "        \n",
    "            count -= 1\n",
    "                \n",
    "        except ValueError as e:\n",
    "            print(\"Please enter either rock or paper or scissors.\")\n",
    "            continue\n",
    "          \n",
    "    print(f\"\\nYou have scored {players_win} and I have scored {games_win}.\") \n",
    "    return players_win, games_win\n",
    "\n",
    "# Mini-game 3.2: Guess the Number in Room 3\n",
    "def dresser_game():\n",
    "    print(\"\\nYou are looking at the dresser.\")\n",
    "    attempts = 3\n",
    "    correct_number = random.randint(1, 6)\n",
    "    while attempts > 0:\n",
    "        guess = int(input(f\"Guess a number between 1 and 6 (attempts left: {attempts}): \"))\n",
    "        if guess == correct_number:\n",
    "            print(\"Congratulations! You guessed the correct number and earned the key.\")\n",
    "            return True\n",
    "        else:\n",
    "            attempts -= 1\n",
    "            print(\"Wrong guess. Try again.\")\n",
    "    print(\"You ran out of attempts.\")\n",
    "    return False\n",
    "\n",
    "# Room 1: Explore and solve the piano mini-game\n",
    "def habitacion_1():\n",
    "    print(\"\\nYou are in Piano room.\")\n",
    "    has_key = False\n",
    "    game_ended = False\n",
    "\n",
    "    while not game_ended:\n",
    "        explore = input(\"\\nDo you want to explore the room? (yes/no): \").lower()\n",
    "\n",
    "        if explore == \"yes\":\n",
    "            print(\"\\nThese are your options:\")\n",
    "            print(\"1. Look at the piano\")\n",
    "            print(\"2. Go to Door A\")\n",
    "            print(\"3. Inspect the couch\")\n",
    "\n",
    "            option = input(\"Choose an option (1/2/3): \")\n",
    "\n",
    "            if option == \"1\":\n",
    "                if not has_key:\n",
    "                    print(\"A beautiful music starts. You have to answer the question.\")\n",
    "                    if mini_game_piano():\n",
    "                        has_key = True\n",
    "                else:\n",
    "                    print(\"You have already won the key. Try another action.\")\n",
    "            elif option == \"2\":\n",
    "                if has_key:\n",
    "                    print(\"You use the key to open Door A.\")\n",
    "                    next_room = input(\"Do you want to enter the next room? (yes/no): \").lower()\n",
    "                    if next_room == \"yes\":\n",
    "                        print(\"You advance to the next room. Be careful!\")\n",
    "                        return \"room_2\"\n",
    "                    else:\n",
    "                        print(\"You decide to stay in the current room.\")\n",
    "                else:\n",
    "                    print(\"The door is locked. You need a key to open it.\")\n",
    "            elif option == \"3\":\n",
    "                give_hint()\n",
    "            else:\n",
    "                print(\"You didn't choose a valid option.\")\n",
    "        elif explore == \"no\":\n",
    "            print(\"You decided not to explore the room - the owners are coming soon - be quick!\")\n",
    "            game_ended = True\n",
    "        else:\n",
    "            print(\"You didn't choose a valid option.\")\n",
    "\n",
    "# Room 2: Math challenges\n",
    "def habitacion_2():\n",
    "    print(\"\\nYou are in Room 2.\")\n",
    "    has_key_math = False\n",
    "    game_ended = False\n",
    "    while not game_ended:\n",
    "        print(\"\\nOptions:\")\n",
    "        print(\"1. Solve math problems to get the key.\")\n",
    "        print(\"2. Inspect the room.\")\n",
    "        print(\"3. Go to the next room (if you have the key).\")\n",
    "        choice = input(\"Choose an option (1/2/3): \")\n",
    "        if choice == \"1\":\n",
    "            if not has_key_math:\n",
    "                if mini_game_math():\n",
    "                    has_key_math = True\n",
    "                    print(\"You found the key to Room 3!\")\n",
    "            else:\n",
    "                print(\"You already have the key.\")\n",
    "        elif choice == \"2\":\n",
    "            print(\"You look around the room but find nothing unusual.\")\n",
    "        elif choice == \"3\":\n",
    "            if has_key_math:\n",
    "                print(\"You use the key to unlock Room 3. Moving to Room 3 now...\")\n",
    "                return \"room_3\"\n",
    "            else:\n",
    "                print(\"The door is locked. You need the key from the math game.\")\n",
    "                game_ended = True\n",
    "        else:\n",
    "            print(\"Invalid option. Try again.\")\n",
    "\n",
    "# Room 3: Explore and solve both mini-games\n",
    "def habitacion_3():\n",
    "    print(\"\\nYou are in Room 3. You need to find two keys to escape.\")\n",
    "    has_key_bed = False\n",
    "    has_key_dresser = False\n",
    "    while not (has_key_bed and has_key_dresser):\n",
    "        print(\"\\nOptions:\")\n",
    "        print(\"1. Inspect the bed (play Rock, Paper, Scissors).\")\n",
    "        print(\"2. Inspect the dresser (Guess the Number game).\")\n",
    "        choice = input(\"Choose an option (1/2): \")\n",
    "        \n",
    "        if choice == \"1\":\n",
    "            if not has_key_bed:\n",
    "                players_win, games_win = bed_game()\n",
    "                result = whos_the_winner(players_win, games_win)\n",
    "                if result:\n",
    "                    has_key_bed = True\n",
    "                    print(\"You won the key from the bed!\")\n",
    "            else:\n",
    "                print(\"You already have the key from the bed.\")\n",
    "        elif choice == \"2\":\n",
    "            if not has_key_dresser:\n",
    "                if dresser_game():\n",
    "                    has_key_dresser = True\n",
    "            else:\n",
    "                print(\"You already have the key from the dresser.\")\n",
    "        else:\n",
    "            print(\"Invalid option. Try again.\")\n",
    "    print(\"Congratulations! You have both keys and escape the house with your new friend you again! Waouf Waouf!!\")\n",
    "\n",
    "# Start the game and move through rooms\n",
    "def start_game():\n",
    "    intro()\n",
    "    intro_1()\n",
    "    next_room = habitacion_1()\n",
    "    if next_room == \"room_2\":\n",
    "        next_room = habitacion_2()\n",
    "    if next_room == \"room_3\":\n",
    "        habitacion_3()\n",
    "\n",
    "# Initiates the full game\n",
    "start_game()\n"
   ]
  }
 ],
 "metadata": {
  "kernelspec": {
   "display_name": "Python 3 (ipykernel)",
   "language": "python",
   "name": "python3"
  },
  "language_info": {
   "codemirror_mode": {
    "name": "ipython",
    "version": 3
   },
   "file_extension": ".py",
   "mimetype": "text/x-python",
   "name": "python",
   "nbconvert_exporter": "python",
   "pygments_lexer": "ipython3",
   "version": "3.12.2"
  }
 },
 "nbformat": 4,
 "nbformat_minor": 5
}
